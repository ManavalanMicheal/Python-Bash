{
 "cells": [
  {
   "cell_type": "markdown",
   "metadata": {},
   "source": [
    "<h3 align=\"center\"><b>How To Use Python Command In Command Prompt?</h3>"
   ]
  },
  {
   "cell_type": "code",
   "execution_count": 2,
   "metadata": {},
   "outputs": [
    {
     "name": "stdout",
     "output_type": "stream",
     "text": [
      "root\n",
      "daemon\n",
      "bin\n",
      "sys\n",
      "sync\n",
      "games\n",
      "man\n",
      "lp\n",
      "mail\n",
      "news\n",
      "uucp\n",
      "proxy\n",
      "www-data\n",
      "backup\n",
      "list\n",
      "irc\n",
      "gnats\n",
      "nobody\n",
      "systemd-network\n",
      "systemd-resolve\n",
      "syslog\n",
      "messagebus\n",
      "_apt\n",
      "uuidd\n",
      "avahi-autoipd\n",
      "usbmux\n",
      "dnsmasq\n",
      "rtkit\n",
      "lightdm\n",
      "cups-pk-helper\n",
      "speech-dispatcher\n",
      "whoopsie\n",
      "kernoops\n",
      "saned\n",
      "pulse\n",
      "nm-openvpn\n",
      "avahi\n",
      "colord\n",
      "hplip\n",
      "geoclue\n",
      "mana\n",
      "sshd\n"
     ]
    }
   ],
   "source": [
    "%%bash\n",
    "\n",
    "getent passwd | python3 -c 'import sys; \n",
    "for i in sys.stdin: print(i.split(\":\")[0])'"
   ]
  }
 ],
 "metadata": {
  "kernelspec": {
   "display_name": "Python 3",
   "language": "python",
   "name": "python3"
  },
  "language_info": {
   "codemirror_mode": {
    "name": "ipython",
    "version": 3
   },
   "file_extension": ".py",
   "mimetype": "text/x-python",
   "name": "python",
   "nbconvert_exporter": "python",
   "pygments_lexer": "ipython3",
   "version": "3.6.9"
  },
  "widgets": {
   "application/vnd.jupyter.widget-state+json": {
    "state": {},
    "version_major": 2,
    "version_minor": 0
   }
  }
 },
 "nbformat": 4,
 "nbformat_minor": 2
}
