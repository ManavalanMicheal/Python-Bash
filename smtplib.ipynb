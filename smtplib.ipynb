{
 "cells": [
  {
   "cell_type": "markdown",
   "metadata": {},
   "source": [
    "<h3 align=\"center\"><b>smtplib</h3>"
   ]
  },
  {
   "cell_type": "markdown",
   "metadata": {},
   "source": [
    ">>**The smtplib module defines an SMTP client session object that can be used to send mail to anyInternetmachine with an SMTP.**\n",
    "\n"
   ]
  },
  {
   "cell_type": "markdown",
   "metadata": {},
   "source": [
    "***"
   ]
  },
  {
   "cell_type": "markdown",
   "metadata": {},
   "source": [
    "#### **class smtplib.SMTP()**\n",
    "An SMTP instance encapsulates an SMTP connection.<br>It has methods that support a full of SMTP and ESMTP operations. \n",
    "\n",
    "##### **Parameters for SMTP constructor:**<br>\n",
    ">**SMTP**(****host=***'', ***port=***0, ***local_hostname=***None, [timeout, ]source_address=None)<br><br>\n",
    "**host -** optional<br>\n",
    "**port -** optinal<br>\n",
    ">>If the optional host and port parameters are given, the **SMTP connect()** method is called with those parameters during initialization.\n",
    "\n",
    "> **local_hostname -** optional\n",
    ">>1. If specified, local_hostname is used as the FQDN of the local host in the **HELO/EHLO** command. <br>\n",
    "2. Otherwise, the local hostname is found using **socket.getfqdn()**. If the connect() call returns anything other than a success code, an SMTPConnectError is raised. \n",
    "\n",
    "> **timeout -** optional\n",
    ">>The optional timeout parameter specifies a timeout in seconds for blocking operations like the connection attempt (if not specified, the global default timeout setting will be used). If the timeout expires, **socket.timeout** is raised. \n",
    "\n",
    "> **source_address -** optional\n",
    ">>The optional source_address parameter allows binding to some specific source address in a machine with **multiple network interfaces**, and/or to some specific source TCP port. It takes a **2-tuple (host, port)**, for the socket to bind to as its source address before connecting.\n",
    "\n",
    "**Example:**<br>\n",
    "For normal use, you should only require the initialization/connect, sendmail(), and SMTP.quit() methods.\n",
    "\n",
    "The SMTP class supports the with statement. <br>When used like this, the SMTP QUIT command is issued automatically when the with statement exits."
   ]
  },
  {
   "cell_type": "code",
   "execution_count": null,
   "metadata": {},
   "outputs": [],
   "source": [
    "from smtplib import SMTP\n",
    "#with SMTP(\"domain.org\") as smtp:\n",
    "#    smtp.noop()"
   ]
  },
  {
   "cell_type": "markdown",
   "metadata": {},
   "source": [
    "***"
   ]
  },
  {
   "cell_type": "markdown",
   "metadata": {},
   "source": [
    "#### **class smtplib.SMTP_SSL()**\n",
    "\n",
    "An **SMTP_SSL** instance behaves exactly the same as instances of SMTP.<br>\n",
    "SMTP_SSL should be used for situations where **SSL** is required from the beginning of the connection <br>and using starttls() is not appropriate. \n",
    "\n",
    "##### **Parameters for SMTP constructor:**\n",
    "\n",
    "> **SMTP_SSL**(***host=**'', ***port=***0, ***local_hostname=***None, ***keyfile=***None, ***certfile=***None, [timeout, ]context=None, source_address=None)<br><br>\n",
    "**host -** optional<br>\n",
    ">>If host is not specified, the local host is used.<br>\n",
    "\n",
    ">**port -** optinal<br>\n",
    ">>If port is zero, the standard SMTP-over-SSL port (465) is used.\n",
    "\n",
    "> The optional arguments **local_hostname, timeout and source_address** have the same meaning as they do in the SMTP class.\n",
    "\n",
    "> **context -**\n",
    ">>Can contain a SSLContext and allows configuring various aspects of the secure connection.\n",
    "\n",
    "> **keyfile and certfile -** optional\n",
    ">> keyfile and certfile are a legacy alternative to context, and can point to a PEM formatted private key and certificate chain file for the SSL connection.\n",
    "\n",
    "**Deprecated:**\n",
    "\n",
    "keyfile and certfile are deprecated in favor of context.<br>\n",
    "Please use ssl.SSLContext.load_cert_chain() instead, <br>or let ssl.create_default_context() select the system’s trusted CA certificates for you."
   ]
  },
  {
   "cell_type": "markdown",
   "metadata": {},
   "source": [
    "***"
   ]
  },
  {
   "cell_type": "markdown",
   "metadata": {},
   "source": [
    "#### **SMTP Exception**\n",
    "> **exception smtplib.SMTPException**<br>\n",
    "Subclass of **OSError** that is the base exception class for all the other exceptions provided by this module.\n",
    "\n",
    "> **exception smtplib.SMTPServerDisconnected**<br>\n",
    "This exception is raised when the server unexpectedly disconnects, <br>or when an attempt is made to use the SMTP instance before connecting it to a server.\n",
    "\n",
    "> **exception smtplib.SMTPResponseException**<br>\n",
    "1. Base class for all exceptions that include an SMTP error code.\n",
    "2. These exceptions are generated in some instances when the SMTP server returns an error code.<br> \n",
    "3. The error code is stored in the **smtp_code attribute** of the error, and the **smtp_error attribute** is set to the error message.\n",
    "\n",
    "> **exception smtplib.SMTPRecipientsRefused**<br>\n",
    "1. All recipient addresses refused. \n",
    "2. The errors for each recipient are accessible through the attribute recipients,<br> which is a dictionary of exactly the same sort as SMTP.sendmail() returns.\n",
    "\n",
    "> **exception smtplib.SMTPDataError**<br>\n",
    "The SMTP server refused to accept the message data.\n",
    "\n",
    "> **exception smtplib.SMTPConnectError**<br>\n",
    "Error occurred during establishment of a connection with the server.\n",
    "\n",
    "> **exception smtplib.SMTPHeloError**<br>\n",
    "The server refused our HELO message.\n",
    "\n",
    ">**exception smtplib.SMTPNotSupportedError**<br>\n",
    "The command or option attempted is not supported by the server.\n",
    "\n",
    ">**exception smtplib.SMTPAuthenticationError**<br>\n",
    "SMTP authentication went wrong. Most probably the server didn’t accept the username/password combination provided."
   ]
  },
  {
   "cell_type": "markdown",
   "metadata": {},
   "source": [
    "***"
   ]
  },
  {
   "cell_type": "markdown",
   "metadata": {},
   "source": [
    "#### **SMTP Objects**"
   ]
  },
  {
   "cell_type": "markdown",
   "metadata": {},
   "source": [
    "#### **SMTP.set_debuglevel()**\n",
    "\n",
    "> #### **Parameters for set_debuglevel:**\n",
    "**set_debuglevel**(*level*)<br>\n",
    "1. Set the debug output level. \n",
    "2. A value of **1** or True for level results in debug messages for connection and for all messages <br>sent to and received from the server. \n",
    "3. A value of **2** for level results in these messages being timestamped.\n"
   ]
  },
  {
   "cell_type": "code",
   "execution_count": null,
   "metadata": {},
   "outputs": [],
   "source": [
    "import smtplib\n",
    "\n",
    "server = smtplib.SMTP('localhost', 25)\n",
    "server.set_debuglevel(True)  # show communication with the server\n"
   ]
  },
  {
   "cell_type": "markdown",
   "metadata": {},
   "source": [
    "#### **SMTP.docmd()**\n",
    "\n",
    "> **Parameters for docmd:**<br>\n",
    "**docmd**(*cmd, args=''*)<br>\n",
    "1. Send a command cmd to the server. \n",
    "2. The optional argument args is simply concatenated to the command, separated by a space.\n",
    "\n",
    "> **Return value from docmd**<br>\n",
    "1. This returns a **2-tuple** composed of a numeric response code<br> and the actual response line (multiline responses are joined into one long line.)\n",
    "\n",
    "In normal operation it should not be necessary to call this method explicitly. <br>It is used to implement other methods and may be useful for testing private extensions.\n",
    "\n",
    "If the connection to the server is lost while waiting for the reply, SMTPServerDisconnected will be raised."
   ]
  },
  {
   "cell_type": "markdown",
   "metadata": {},
   "source": [
    "#### **SMTP.connect()**\n",
    "Connect to a host.\n",
    "> **Parameters for connect:**<br>\n",
    "**connect**(****host=***'localhost', ***port***=0*)<br>\n",
    "1. Connect to a host on a given port. \n",
    "2. The defaults are to connect to the local host at the standard SMTP port (25).\n",
    "<br>If the ***hostname ends with a colon (':')*** followed by a number, that suffix will be stripped off <br>and the number interpreted as the port number to use. \n",
    "3. This method is automatically invoked by the constructor if a host is specified during instantiation.\n",
    "\n",
    "> **Return value from connect:**<br>\n",
    "Returns a **2-tuple of the response code and message** sent by the server in its connection response."
   ]
  },
  {
   "cell_type": "markdown",
   "metadata": {},
   "source": [
    "#### **SMTP.helo()**\n",
    "Identify yourself to the SMTP server using HELO. \n",
    "> **Parameters for helo:**<br>\n",
    "**helo**(***name=***'')<br>\n",
    "Identify yourself to the SMTP server using HELO. \n",
    "\n",
    "> **Return Value from helo:**<br>\n",
    "The message returned by the server is stored as the helo_resp attribute of the object.\n",
    "\n",
    "In normal operation it should not be necessary to call this method explicitly.<br> It will be implicitly called by the sendmail() when necessary."
   ]
  },
  {
   "cell_type": "markdown",
   "metadata": {},
   "source": [
    "#### **SMTP.has_extn()**\n",
    "> **Parameters for has_extn:**<br>\n",
    "**has_extn(name)**<br>\n",
    "name is in the set of SMTP service\n",
    "\n",
    ">**Return value from has_extn:**<br>\n",
    "1. Return True if name is in the set of SMTP service extensions returned by the server, False otherwise. \n",
    "2. Case is ignored."
   ]
  },
  {
   "cell_type": "markdown",
   "metadata": {},
   "source": [
    "#### **SMTP.verify()**\n",
    "Check the validity of an address.\n",
    "> **Parameters for verify:**<br>\n",
    "**verify(address)**<br>\n",
    "Check the validity of an address on this server using SMTP VRFY. \n",
    "\n",
    "> **Return value from verify:**<br>\n",
    "Returns a tuple consisting of code 250 and a full RFC 822 address (including human name) if the user address is valid. <br>Otherwise returns an SMTP error code of 400 or greater and an error string.\n",
    "\n",
    "**Note:**Many sites disable SMTP VRFY in order to foil spammers."
   ]
  },
  {
   "cell_type": "code",
   "execution_count": null,
   "metadata": {},
   "outputs": [],
   "source": []
  }
 ],
 "metadata": {
  "kernelspec": {
   "display_name": "Python 3",
   "language": "python",
   "name": "python3"
  },
  "language_info": {
   "codemirror_mode": {
    "name": "ipython",
    "version": 3
   },
   "file_extension": ".py",
   "mimetype": "text/x-python",
   "name": "python",
   "nbconvert_exporter": "python",
   "pygments_lexer": "ipython3",
   "version": "3.6.9"
  }
 },
 "nbformat": 4,
 "nbformat_minor": 2
}
