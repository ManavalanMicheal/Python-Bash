{
 "cells": [
  {
   "cell_type": "markdown",
   "metadata": {},
   "source": [
    "### **How To Check String Password Complexity Policy?**"
   ]
  },
  {
   "cell_type": "code",
   "execution_count": 5,
   "metadata": {},
   "outputs": [
    {
     "name": "stdout",
     "output_type": "stream",
     "text": [
      "Enter More Than 4 Charcters: 4@pcGJ6\n",
      "Yes.\"4@pcGJ6\" satisfied complexity policy.\n"
     ]
    }
   ],
   "source": [
    "from re import search\n",
    "\n",
    "usr_inp = input('Enter More Than 4 Charcters: ')\n",
    "passwd =  usr_inp if len(usr_inp) >= 4 else \"\"\n",
    "rgx = ['\\W', '[a-z]', '[A-Z]', '\\d']\n",
    "match = [x for x in rgx if search(x, passwd)]\n",
    "\n",
    "if len(match) == 4:\n",
    "    print(f'Yes.\"{passwd}\" satisfied complexity policy.')\n",
    "else:\n",
    "    print(f'No.\"{passwd}\"\" not satisfied complexity policy.')"
   ]
  }
 ],
 "metadata": {
  "kernelspec": {
   "display_name": "Python 3",
   "language": "python",
   "name": "python3"
  },
  "language_info": {
   "codemirror_mode": {
    "name": "ipython",
    "version": 3
   },
   "file_extension": ".py",
   "mimetype": "text/x-python",
   "name": "python",
   "nbconvert_exporter": "python",
   "pygments_lexer": "ipython3",
   "version": "3.6.9"
  }
 },
 "nbformat": 4,
 "nbformat_minor": 2
}
