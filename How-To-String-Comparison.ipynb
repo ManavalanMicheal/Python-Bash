{
 "cells": [
  {
   "cell_type": "markdown",
   "metadata": {},
   "source": [
    "<h3 align=\"center\"><b>How To String Comparison?</h3>"
   ]
  },
  {
   "cell_type": "code",
   "execution_count": 5,
   "metadata": {},
   "outputs": [
    {
     "name": "stdout",
     "output_type": "stream",
     "text": [
      "False\n"
     ]
    }
   ],
   "source": [
    "%%bash\n",
    "\n",
    "if [[ 'Linux' > 'Unix' ]] \n",
    "then\n",
    "echo \"True\" \n",
    "else\n",
    "echo \"False\"\n",
    "fi"
   ]
  },
  {
   "cell_type": "markdown",
   "metadata": {},
   "source": [
    "***"
   ]
  },
  {
   "cell_type": "code",
   "execution_count": 3,
   "metadata": {},
   "outputs": [
    {
     "name": "stdout",
     "output_type": "stream",
     "text": [
      "False\n"
     ]
    }
   ],
   "source": [
    "%%python3\n",
    "\n",
    "print('Linux' > 'Unix')"
   ]
  },
  {
   "cell_type": "markdown",
   "metadata": {},
   "source": [
    "***"
   ]
  },
  {
   "cell_type": "markdown",
   "metadata": {},
   "source": [
    "#### **How This Works?**"
   ]
  },
  {
   "cell_type": "code",
   "execution_count": 4,
   "metadata": {},
   "outputs": [
    {
     "name": "stdout",
     "output_type": "stream",
     "text": [
      "Linux string ascii value: [76, 105, 110, 117, 120]\n",
      "Unix string ascii value: [85, 110, 105, 120]\n",
      "True\n"
     ]
    }
   ],
   "source": [
    "lin_ascii_val = [ord(i) for i in 'Linux']\n",
    "print(f'Linux string ascii value: {lin_ascii_val}')\n",
    "uni_ascii_val = [ord(i) for i in 'Unix']\n",
    "print(f'Unix string ascii value: {uni_ascii_val}')\n",
    "print(sum(lin_ascii_val) > sum(uni_ascii_val))"
   ]
  }
 ],
 "metadata": {
  "kernelspec": {
   "display_name": "Python 3",
   "language": "python",
   "name": "python3"
  },
  "language_info": {
   "codemirror_mode": {
    "name": "ipython",
    "version": 3
   },
   "file_extension": ".py",
   "mimetype": "text/x-python",
   "name": "python",
   "nbconvert_exporter": "python",
   "pygments_lexer": "ipython3",
   "version": "3.6.9"
  },
  "widgets": {
   "application/vnd.jupyter.widget-state+json": {
    "state": {},
    "version_major": 2,
    "version_minor": 0
   }
  }
 },
 "nbformat": 4,
 "nbformat_minor": 2
}
