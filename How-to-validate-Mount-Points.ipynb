{
 "cells": [
  {
   "cell_type": "markdown",
   "metadata": {},
   "source": [
    "### **How to validate Mount Points?**"
   ]
  },
  {
   "cell_type": "code",
   "execution_count": 2,
   "metadata": {},
   "outputs": [
    {
     "name": "stdout",
     "output_type": "stream",
     "text": [
      "All Disks Are Mounted Correctly.\n"
     ]
    }
   ],
   "source": [
    "%%bash\n",
    "\n",
    "fstab_mount=( $( awk '/^UUID|^\\/dev/ && !/none/ {print $2}' \\\n",
    "/etc/fstab ) )\n",
    "current_mount=$( mount | awk '/^\\/.*/{print $3}')\n",
    "\n",
    "for i in ${fstab_mount[@]}\n",
    "do\n",
    "if [[ \"$current_mount\" != *\"$i\"* ]]\n",
    "then\n",
    "echo $i\n",
    "echo \"These Mount Point Not Mounted:\"\n",
    "grep \"$i\" /etc/fstab | awk '{print $2}'\n",
    "out='fail'\n",
    "fi\n",
    "done\n",
    "if [ -z $out ] \n",
    "then\n",
    "echo \"All Disks Are Mounted Correctly.\"\n",
    "fi"
   ]
  },
  {
   "cell_type": "code",
   "execution_count": 3,
   "metadata": {},
   "outputs": [
    {
     "name": "stdout",
     "output_type": "stream",
     "text": [
      "All Disks Are Mounted Correctly.\n"
     ]
    }
   ],
   "source": [
    "%%python3\n",
    "\n",
    "from pathlib import Path\n",
    "import re\n",
    "\n",
    "dpath = Path('/etc/')\n",
    "fstab = (dpath/'fstab').read_text().splitlines()\n",
    "fstab_entry ={x.split()[1] for x in fstab \n",
    "              if x.startswith('UUID')}\n",
    "mtab = (dpath/'mtab').read_text().splitlines()\n",
    "mtab_entry = {y.split()[1] for y in mtab \n",
    "              if y.startswith('/dev/sd')}\n",
    "out = fstab_entry - mtab_entry\n",
    "\n",
    "if not out:\n",
    "    print(\"All Disks Are Mounted Correctly.\")\n",
    "else:\n",
    "    print('These Mount Point Not Mounted:', *out, sep = '\\n')"
   ]
  }
 ],
 "metadata": {
  "kernelspec": {
   "display_name": "Python 3",
   "language": "python",
   "name": "python3"
  },
  "language_info": {
   "codemirror_mode": {
    "name": "ipython",
    "version": 3
   },
   "file_extension": ".py",
   "mimetype": "text/x-python",
   "name": "python",
   "nbconvert_exporter": "python",
   "pygments_lexer": "ipython3",
   "version": "3.6.9"
  },
  "widgets": {
   "application/vnd.jupyter.widget-state+json": {
    "state": {},
    "version_major": 2,
    "version_minor": 0
   }
  }
 },
 "nbformat": 4,
 "nbformat_minor": 2
}
