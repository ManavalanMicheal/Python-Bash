{
 "cells": [
  {
   "cell_type": "markdown",
   "metadata": {},
   "source": [
    "### **How to view Last 30 Minutes Logs?**"
   ]
  },
  {
   "cell_type": "code",
   "execution_count": null,
   "metadata": {},
   "outputs": [],
   "source": [
    "%%bash\n",
    "\n",
    "for i in {30..1}\n",
    "do\n",
    "min=$(date +\"%b %d %H:%M\" -d \"-$i minute\")\n",
    "sed -n \"/$min/p\" /var/log/syslog\n",
    "done"
   ]
  },
  {
   "cell_type": "code",
   "execution_count": 3,
   "metadata": {},
   "outputs": [
    {
     "name": "stdout",
     "output_type": "stream",
     "text": [
      "Apr 17 22:48:26 joe plank.desktop[1703]: [18527:18527:0417/224826.960771:ERROR:CONSOLE(1)] \"Uncaught (in promise) Capture cancelled\", source: chrome-extension://mpognobbkildjkofajifpdfhcoklimli/bundle.js (1)\n",
      "Apr 17 22:49:01 joe org.gnome.Nautilus[1317]: ('Handling file: ', 'file:///home/mana/Python/Must%20Study%20Python%20Books/DevOps%20&%20System%20Programming/DevOps%20in%20Python%20%20Infrastructure%20as%20Python.pdf')\n",
      "Apr 17 22:49:01 joe org.gnome.Nautilus[1317]: ('file scheme: ', 'file')\n",
      "Apr 17 22:49:01 joe org.gnome.Nautilus[1317]: RuntimeError: object at 0x7f2b9dca9b40 of type FolderColorMenu is not initialized\n",
      "Apr 17 22:49:34 joe plank.desktop[1703]: [18563:18569:0417/224934.327786:ERROR:ssl_client_socket_impl.cc(941)] handshake failed; returned -1, SSL error code 1, net_error -100\n",
      "Apr 17 22:49:34 joe plank.desktop[1703]: [18563:18569:0417/224934.339632:ERROR:ssl_client_socket_impl.cc(941)] handshake failed; returned -1, SSL error code 1, net_error -100\n",
      "Apr 17 22:51:03 joe org.gnome.Nautilus[1317]: ('Handling file: ', 'file:///home/mana/Python/Must%20Study%20Python%20Books/DevOps%20&%20System%20Programming/DevOps%20in%20Python%20%20Infrastructure%20as%20Python.pdf')\n",
      "Apr 17 22:51:03 joe org.gnome.Nautilus[1317]: ('file scheme: ', 'file')\n",
      "Apr 17 22:51:03 joe org.gnome.Nautilus[1317]: RuntimeError: object at 0x7f2b9dca9b40 of type FolderColorMenu is not initialized\n",
      "Apr 17 22:53:15 joe plank.desktop[1703]: [18527:18527:0417/225315.500906:ERROR:CONSOLE(1)] \"WebSocket connection to 'wss://bifrost.vivaldi.com:15674/ws' failed: Error in connection establishment: net::ERR_CONNECTION_TIMED_OUT\", source: chrome-extension://mpognobbkildjkofajifpdfhcoklimli/background-bundle.js (1)\n",
      "Apr 17 22:54:08 joe plank.desktop[1703]: [18527:18527:0417/225408.516221:ERROR:CONSOLE(0)] \"Unchecked runtime.lastError: Could not find guest\", source: chrome-extension://mpognobbkildjkofajifpdfhcoklimli/browser.html (0)\n",
      "Apr 17 22:54:08 joe plank.desktop[1703]: [18527:18527:0417/225408.518022:ERROR:CONSOLE(0)] \"Unchecked runtime.lastError: Could not find guest\", source: chrome-extension://mpognobbkildjkofajifpdfhcoklimli/browser.html (0)\n",
      "Apr 17 22:54:11 joe plank.desktop[1703]: [18527:18527:0417/225411.736696:ERROR:CONSOLE(0)] \"Unchecked runtime.lastError: Could not find guest\", source: chrome-extension://mpognobbkildjkofajifpdfhcoklimli/browser.html (0)\n",
      "Apr 17 22:54:11 joe plank.desktop[1703]: [18527:18527:0417/225411.736791:ERROR:CONSOLE(0)] \"Unchecked runtime.lastError: Could not find guest\", source: chrome-extension://mpognobbkildjkofajifpdfhcoklimli/browser.html (0)\n",
      "Apr 17 22:54:35 joe plank.desktop[1703]: [18563:18569:0417/225435.231765:ERROR:ssl_client_socket_impl.cc(941)] handshake failed; returned -1, SSL error code 1, net_error -100\n",
      "Apr 17 22:54:35 joe plank.desktop[1703]: [18563:18569:0417/225435.241827:ERROR:ssl_client_socket_impl.cc(941)] handshake failed; returned -1, SSL error code 1, net_error -100\n",
      "Apr 17 22:55:01 joe CRON[22401]: (root) CMD (command -v debian-sa1 > /dev/null && debian-sa1 1 1)\n",
      "Apr 17 22:55:33 joe org.gnome.Nautilus[1317]: ('Handling file: ', 'file:///home/mana/Python/Must%20Study%20Python%20Books/DevOps%20&%20System%20Programming/DevOps%20in%20Python%20%20Infrastructure%20as%20Python.pdf')\n",
      "Apr 17 22:55:33 joe org.gnome.Nautilus[1317]: ('file scheme: ', 'file')\n",
      "Apr 17 22:55:33 joe org.gnome.Nautilus[1317]: RuntimeError: object at 0x7f2b9dca9b40 of type FolderColorMenu is not initialized\n",
      "Apr 17 22:55:47 joe budgie-panel[1670]: wnck_window_is_skip_pager: assertion 'WNCK_IS_WINDOW (window)' failed\n",
      "Apr 17 22:55:47 joe budgie-panel[1670]: wnck_window_is_skip_tasklist: assertion 'WNCK_IS_WINDOW (window)' failed\n",
      "Apr 17 22:55:47 joe budgie-panel[1670]: wnck_window_get_geometry: assertion 'WNCK_IS_WINDOW (window)' failed\n",
      "Apr 17 22:56:37 joe org.gnome.Nautilus[1317]: ('Handling file: ', 'file:///home/mana/Python/Must%20Study%20Python%20Books/DevOps%20&%20System%20Programming/DevOps%20in%20Python%20%20Infrastructure%20as%20Python.pdf')\n",
      "Apr 17 22:56:37 joe org.gnome.Nautilus[1317]: ('file scheme: ', 'file')\n",
      "Apr 17 22:56:37 joe org.gnome.Nautilus[1317]: RuntimeError: object at 0x7f2b9dca9b40 of type FolderColorMenu is not initialized\n"
     ]
    }
   ],
   "source": [
    "%%python3\n",
    "\n",
    "from datetime import datetime, timedelta\n",
    "from pathlib import Path\n",
    "from re import search\n",
    "\n",
    "mintues = [(datetime.now() - timedelta(minutes = i))\n",
    "           .strftime('%b %d %H:%M') for i in range(1, 10)]\n",
    "log_lines = Path('/var/log/syslog').read_text().splitlines()\n",
    "for x in log_lines:\n",
    "    log_time = search(r'^\\w{3}\\s+\\d+\\s\\d{2}:\\d{2}',x).group()\n",
    "    if log_time in mintues:\n",
    "        print(x)    "
   ]
  }
 ],
 "metadata": {
  "kernelspec": {
   "display_name": "Python 3",
   "language": "python",
   "name": "python3"
  },
  "language_info": {
   "codemirror_mode": {
    "name": "ipython",
    "version": 3
   },
   "file_extension": ".py",
   "mimetype": "text/x-python",
   "name": "python",
   "nbconvert_exporter": "python",
   "pygments_lexer": "ipython3",
   "version": "3.6.9"
  },
  "widgets": {
   "application/vnd.jupyter.widget-state+json": {
    "state": {},
    "version_major": 2,
    "version_minor": 0
   }
  }
 },
 "nbformat": 4,
 "nbformat_minor": 2
}
